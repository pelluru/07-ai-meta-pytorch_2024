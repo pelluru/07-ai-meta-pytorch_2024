{
 "cells": [
  {
   "cell_type": "code",
   "execution_count": 1,
   "id": "d3d4e887-2244-4457-acfa-6882774846d6",
   "metadata": {},
   "outputs": [
    {
     "name": "stdout",
     "output_type": "stream",
     "text": [
      "tensor([[0.3135, 0.8196, 0.3055],\n",
      "        [0.2084, 0.8756, 0.3875],\n",
      "        [0.5943, 0.4039, 0.0496],\n",
      "        [0.0632, 0.5322, 0.4843],\n",
      "        [0.3622, 0.2874, 0.7250]])\n"
     ]
    }
   ],
   "source": [
    "import torch\n",
    "x = torch.rand(5, 3)\n",
    "print(x)"
   ]
  },
  {
   "cell_type": "code",
   "execution_count": null,
   "id": "c340c3f4-b7ea-4780-b61f-cca33a917dca",
   "metadata": {},
   "outputs": [],
   "source": []
  }
 ],
 "metadata": {
  "kernelspec": {
   "display_name": "Python 3 (ipykernel)",
   "language": "python",
   "name": "python3"
  },
  "language_info": {
   "codemirror_mode": {
    "name": "ipython",
    "version": 3
   },
   "file_extension": ".py",
   "mimetype": "text/x-python",
   "name": "python",
   "nbconvert_exporter": "python",
   "pygments_lexer": "ipython3",
   "version": "3.12.7"
  }
 },
 "nbformat": 4,
 "nbformat_minor": 5
}
