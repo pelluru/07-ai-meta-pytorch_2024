{
 "cells": [
  {
   "cell_type": "code",
   "execution_count": 2,
   "id": "d3d4e887-2244-4457-acfa-6882774846d6",
   "metadata": {},
   "outputs": [
    {
     "name": "stdout",
     "output_type": "stream",
     "text": [
      "tensor([[0.1973, 0.1736, 0.6575],\n",
      "        [0.3675, 0.7801, 0.2964],\n",
      "        [0.0332, 0.2472, 0.8586],\n",
      "        [0.3583, 0.0647, 0.2298],\n",
      "        [0.0220, 0.2799, 0.6536]])\n"
     ]
    }
   ],
   "source": [
    "import torch\n",
    "x = torch.rand(5, 3)\n",
    "print(x)"
   ]
  },
  {
   "cell_type": "code",
   "execution_count": null,
   "id": "c340c3f4-b7ea-4780-b61f-cca33a917dca",
   "metadata": {},
   "outputs": [],
   "source": []
  }
 ],
 "metadata": {
  "kernelspec": {
   "display_name": "Python 3 (ipykernel)",
   "language": "python",
   "name": "python3"
  },
  "language_info": {
   "codemirror_mode": {
    "name": "ipython",
    "version": 3
   },
   "file_extension": ".py",
   "mimetype": "text/x-python",
   "name": "python",
   "nbconvert_exporter": "python",
   "pygments_lexer": "ipython3",
   "version": "3.12.7"
  }
 },
 "nbformat": 4,
 "nbformat_minor": 5
}
